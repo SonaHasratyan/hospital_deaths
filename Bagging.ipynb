{
 "cells": [
  {
   "cell_type": "code",
   "execution_count": null,
   "metadata": {},
   "outputs": [],
   "source": [
    "from sklearn.linear_model import LogisticRegression\n",
    "from sklearn.discriminant_analysis import LinearDiscriminantAnalysis\n",
    "from sklearn.neighbors import KNeighborsClassifier\n",
    "from sklearn.naive_bayes import GaussianNB\n",
    "from sklearn.tree import DecisionTreeClassifier\n",
    "from sklearn.svm import SVC\n",
    "from sklearn.metrics import precision_recall_fscore_support\n",
    "from sklearn.ensemble import BaggingClassifier\n",
    "\n",
    "from sklearn.model_selection import train_test_split, cross_val_score, GridSearchCV\n",
    "from sklearn.ensemble import BaggingClassifier\n",
    "\n",
    "\n",
    "models = [KNeighborsClassifier(), DecisionTreeClassifier(), LogisticRegression()]\n",
    "\n",
    "for model in models:\n",
    "    if model == KNeighborsClassifier():\n",
    "        param_grid  = {'n_neighbors':range(1,10)}\n",
    "    elif model == DecisionTreeClassifier():\n",
    "        param_grid = {'criterion': ['gini', 'entropy'],\n",
    "                            'max_depth': [ 4, 5,6,7,8]}\n",
    "    elif model == LogisticRegression():\n",
    "        param_grid = {'C': [0.01,0.05, 0.1,0.15,0.2,0.5,1,2,4,5]}\n",
    "        \n",
    "    Model = GridSearchCV(model, param_grid = param_grid, cv=5)\n",
    "    Model.fit(xTrain, yTrain)\n",
    "    bg = BaggingClassifier(Model, n_estimators = 20, oob_score=True)\n",
    "    bg.fit(xTrain,yTrain)\n",
    "    y_pred = bg.predict(xTest)\n",
    "    accuracy = accuracy_score(yTest, y_pred)\n",
    "    print(\"Best hyperparameters for model {}: {}\".format(model.__class__.__name__, Model.best_params_))\n",
    "    print('Accuracy:', accuracy)\n",
    "\n",
    "    #print('Training accuracy: ', bg.score(xTrain, yTrain))\n",
    "    #print('Test accuracy: ', bg.score(xTest,yTest))\n",
    "    print('OOB Score: ', bg.oob_score_)"
   ]
  }
 ],
 "metadata": {
  "kernelspec": {
   "display_name": "Python 3",
   "language": "python",
   "name": "python3"
  },
  "language_info": {
   "codemirror_mode": {
    "name": "ipython",
    "version": 3
   },
   "file_extension": ".py",
   "mimetype": "text/x-python",
   "name": "python",
   "nbconvert_exporter": "python",
   "pygments_lexer": "ipython3",
   "version": "3.8.6"
  }
 },
 "nbformat": 4,
 "nbformat_minor": 4
}
